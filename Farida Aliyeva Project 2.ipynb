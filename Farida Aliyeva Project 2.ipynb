{
  "nbformat": 4,
  "nbformat_minor": 0,
  "metadata": {
    "kernelspec": {
      "display_name": "Python 3",
      "language": "python",
      "name": "python3"
    },
    "language_info": {
      "codemirror_mode": {
        "name": "ipython",
        "version": 3
      },
      "file_extension": ".py",
      "mimetype": "text/x-python",
      "name": "python",
      "nbconvert_exporter": "python",
      "pygments_lexer": "ipython3",
      "version": "3.8.5"
    },
    "colab": {
      "name": "Untitled_(3) (3).ipynb",
      "provenance": [],
      "collapsed_sections": [],
      "toc_visible": true
    }
  },
  "cells": [
    {
      "cell_type": "markdown",
      "metadata": {
        "id": "2ByN2rtjCm6I"
      },
      "source": [
        "# With Heuristic (MRV, LCV)"
      ]
    },
    {
      "cell_type": "code",
      "metadata": {
        "id": "-jwEI3sF8HqO"
      },
      "source": [
        "#A function that chooses the next node to be a node with the minimum remaining values.\r\n",
        "#In our case a vertext with the least number of neighboors has the priority and is choosen.s\r\n",
        "#To find the correct node the vertex is checked to be uncolored and the number of neighboors is compared with each others. \r\n",
        "def MRV_function(domain,is_colored):\r\n",
        "    min = 1000\r\n",
        "    node = -1\r\n",
        "    for i in range(num_of_vertices):\r\n",
        "        if (len(domain[i]) < min and is_colored[i] ==-1):\r\n",
        "            min = len(domain[i])\r\n",
        "            node = i\r\n",
        "    return node\r\n",
        "    \r\n",
        "#A function that chooses the color which contraints the color choice of the neighbooring vertices the least.\r\n",
        "#The color from the domain of the specific vertex is checked with the neighbooring and the color with the min constraints is found.\r\n",
        "#then the values are sorted.\r\n",
        "def LCV_function(v,adjList,domain):\r\n",
        "    sorted_vals=[]\r\n",
        "    for c in domain[v]:\r\n",
        "        min=1000\r\n",
        "        for i in adjList[v]:\r\n",
        "            ar = len(domain[i])\r\n",
        "            if c in domain[i]:\r\n",
        "                ar = ar-1\r\n",
        "            if(ar<min):\r\n",
        "                min = ar\r\n",
        "        sorted_vals.append([c,min])\r\n",
        "        s = sorted(sorted_vals, key=lambda x: x[1],reverse=True)\r\n",
        "        color = [val[0] for val in s]\r\n",
        "    return color\r\n",
        "\r\n",
        "#A function that checks the safety condition for both backtracking with heuristic and pure backtracking functions\r\n",
        "#If color to be assigned is already assigned to a neighbooring vertex then it is False. s\r\n",
        "def ifSafe(v,i,colors_ind,adjList):\r\n",
        "\r\n",
        "    for j in adjList[v]:\r\n",
        "        if i ==colors_ind[j]:\r\n",
        "            return 0\r\n",
        "\r\n",
        "    return 1\r\n",
        "\r\n",
        "#Backtracking with heuristic combines in itself both the MRV and MCV heuristics. \r\n",
        "#Which means that the next node to be chosen satisfies MRV and the color to be assigned to the \r\n",
        "#vertex satisfies LCVs. The rest parts of the function are almost the same with pure backtracking funciton.\r\n",
        "def backtrack_with_heuristic(colors_ind,adjList,domain,is_colored):\r\n",
        "    if is_colored.count(-1)==0:\r\n",
        "        finish=time.time()\r\n",
        "        return colors_ind\r\n",
        "    next_v = MRV_function(domain, is_colored)\r\n",
        "    c_value = LCV_function(next_v,adjList,domain)\r\n",
        "    for c in c_value: \r\n",
        "      if (ifSafe(next_v, c, colors_ind, adjList))==True:\r\n",
        "        colors_ind[next_v] = c\r\n",
        "        is_colored[next_v] = 1\r\n",
        "        result = backtrack_with_heuristic(colors_ind,adjList,domain,is_colored)\r\n",
        "        if result!=0:\r\n",
        "          return result\r\n",
        "    colors_ind[next_v]=-1\r\n",
        "    is_colored[next_v]=-1\r\n",
        "    return 0  \r\n"
      ],
      "execution_count": 10,
      "outputs": []
    },
    {
      "cell_type": "markdown",
      "metadata": {
        "id": "NT0uYdhdrKL_"
      },
      "source": [
        "# Pure Backtracking "
      ]
    },
    {
      "cell_type": "code",
      "metadata": {
        "id": "IkEMaJlw89cB"
      },
      "source": [
        "#A function to print out the final results of pure backtracking funciton\r\n",
        "def printOut(colors_ind):\r\n",
        "  output=[]\r\n",
        "  for i in range(len(colors_ind)):\r\n",
        "    output.append(list_of_colors[colors_ind[i]])\r\n",
        "  print(\"\\n Results:\",output)\r\n",
        "\r\n",
        "#A function that calculates the result with the pure backtracking algorithm.\r\n",
        "#Once the node reaches the last vertex the calculation stops and results are printed out\r\n",
        "#If node did not reach the final vertex yet then for each color in the domain of colors the node\r\n",
        "#is checked for safety (is the neighbooring node has the same color). If all fine the proceeds with \r\n",
        "#calling the backtracking function again. If failure occurs then resets the value to -1.\r\n",
        "def backtrack(v, colors_ind,  adjList):\r\n",
        "    start = time.time()\r\n",
        "    if v == num_of_vertices:\r\n",
        "        printOut(colors_ind)\r\n",
        "        finish=time.time()\r\n",
        "        print(f\"\\nTime: {round((finish - start),5)} seconds\")     \r\n",
        "        return 1\r\n",
        "    else:\r\n",
        "        for c in range(0, num_of_colors):\r\n",
        "            if (ifSafe(v, c, colors_ind, adjList)):\r\n",
        "                colors_ind[v] = c\r\n",
        "                if (backtrack(v + 1, colors_ind,  adjList) == 1):\r\n",
        "                    return 1\r\n",
        "            colors_ind[v] = -1\r\n",
        "\r\n",
        "        return 0\r\n"
      ],
      "execution_count": 11,
      "outputs": []
    },
    {
      "cell_type": "markdown",
      "metadata": {
        "id": "F4aSAXr3rQpM"
      },
      "source": [
        "# Initialization and Run"
      ]
    },
    {
      "cell_type": "code",
      "metadata": {
        "colab": {
          "base_uri": "https://localhost:8080/"
        },
        "id": "i_FbKvNMDJVT",
        "outputId": "dd370fe1-51b4-44c6-e678-8914a9612db9"
      },
      "source": [
        "import time\r\n",
        "\r\n",
        "# defining essential variables global to use across the program\r\n",
        "global num_of_vertices,num_of_edges,num_of_colors\r\n",
        "edges=[]\r\n",
        "values=[]\r\n",
        "#reading the while extracting the core data to be processed further\r\n",
        "with open(\"Colors.txt\",'r') as vertices:\r\n",
        "  for line in vertices.readlines(): \r\n",
        "    if not line.startswith(\"#\"):\r\n",
        "      if line.startswith(\"colors\"):\r\n",
        "        num = int(line.split('=')[1])\r\n",
        "      else:\r\n",
        "        #storing edges and vertices separately as we will need them booth across the programm\r\n",
        "        s = int(line.split(',')[0]) \r\n",
        "        d = int(line.split(',')[1]) \r\n",
        "        edges.append((s,d))\r\n",
        "        values.append(s)\r\n",
        "        values.append(d)\r\n",
        "#defining the core variables of the program\r\n",
        "num_of_vertices = len(set(values))+1\r\n",
        "num_of_edges = len(edges)\r\n",
        "num_of_colors = num\r\n",
        "\r\n",
        "#creating the list of 10 colors that can be chosen and assign to vertices across the program\r\n",
        "list_of_colors = [\"BLUE\", \"GREEN\", \"RED\", \"YELLOW\", \"ORANGE\", \"PURPLE\",\r\n",
        "            \"BLACK\", \"VIOLET\", \"WHITE\", \"TIFFANY_BLUE\"]\r\n",
        "#both colors_ind and is_colored are filled with value of -1 as much as we have vertices in our file\r\n",
        "#one stores the indices of the colors the other stores which vertices are colored and which not\r\n",
        "colors_ind = [-1 for i in range(num_of_vertices)]\r\n",
        "is_colored = [-1 for i in range(num_of_vertices)]\r\n",
        "\r\n",
        "#from the list of edges the adjacency list is created.\r\n",
        "#Namely the index represents the vertex and the values in the list represent the neighboors of that vertex\r\n",
        "adjList = [[] for j in range(num_of_vertices)]\r\n",
        "for (v_from, v_to) in edges:\r\n",
        "  adjList[v_from].append(v_to)\r\n",
        "  adjList[v_to].append(v_from)\r\n",
        "\r\n",
        "#transform the adjacency list to one univeral list of lists(neighboors)\r\n",
        "for i in range(num_of_vertices):\r\n",
        "  f = list(set(adjList[i]))\r\n",
        "  adjList[i] = f\r\n",
        "\r\n",
        "#domain variable stores the list of colors per each index. The number of colors is defined in the document.\r\n",
        "domain = [[] for k in range(num_of_vertices)]\r\n",
        "for i in range(0,num_of_vertices):\r\n",
        "  for j in range(0,num_of_colors):\r\n",
        "    domain[i].append(j)\r\n",
        "\r\n",
        "#Running the core functions and printing out the necessary information along with the time spent and color values assigned\r\n",
        "print(\"....MVR LCV....\")\r\n",
        "print(\"\\n Number of vertices:\", num_of_vertices)\r\n",
        "print(\"\\n Number of edges:\", num_of_edges)\r\n",
        "print(\"\\n Number of colors used:\", num_of_colors)\r\n",
        "start_1=time.time()\r\n",
        "#backtracking with heuristic\r\n",
        "res = backtrack_with_heuristic( colors_ind, adjList, domain,is_colored)\r\n",
        "if res==0:\r\n",
        "  print(\"\\nNo Solution found! Try more colors.\")\r\n",
        "else:\r\n",
        "  finish_1=time.time()\r\n",
        "  print(f\"\\nTime: {round((finish_1 - start_1),5)} seconds\")\r\n",
        "  output1=[]\r\n",
        "  for i in range(len(res)):\r\n",
        "    output1.append(list_of_colors[res[i]])\r\n",
        "  print(\"\\n Results:\",output1)\r\n",
        "\r\n",
        "#pure backtracking\r\n",
        "print(\"\\n....Backtracking....\")\r\n",
        "print(\"\\n Number of vertices:\", num_of_vertices)\r\n",
        "print(\"\\n Number of edges:\", num_of_edges)\r\n",
        "print(\"\\n Number of colors used:\", num_of_colors)\r\n",
        "output2 = backtrack(0,colors_ind,adjList)\r\n",
        "if output2 ==0:\r\n",
        "  print(\"\\nNo Solution found! Try more colors.\")\r\n"
      ],
      "execution_count": 12,
      "outputs": [
        {
          "output_type": "stream",
          "text": [
            "....MVR LCV....\n",
            "\n",
            " Number of vertices: 8\n",
            "\n",
            " Number of edges: 17\n",
            "\n",
            " Number of colors used: 4\n",
            "\n",
            "Time: 0.00025 seconds\n",
            "\n",
            " Results: ['BLUE', 'BLUE', 'GREEN', 'RED', 'RED', 'GREEN', 'BLUE', 'YELLOW']\n",
            "\n",
            "....Backtracking....\n",
            "\n",
            " Number of vertices: 8\n",
            "\n",
            " Number of edges: 17\n",
            "\n",
            " Number of colors used: 4\n",
            "\n",
            " Results: ['BLUE', 'BLUE', 'GREEN', 'RED', 'RED', 'GREEN', 'BLUE', 'YELLOW']\n",
            "\n",
            "Time: 0.00029 seconds\n"
          ],
          "name": "stdout"
        }
      ]
    },
    {
      "cell_type": "code",
      "metadata": {
        "id": "p07Mwf8pwIKG"
      },
      "source": [
        ""
      ],
      "execution_count": 12,
      "outputs": []
    },
    {
      "cell_type": "code",
      "metadata": {
        "id": "jIlRnd6M0u5P"
      },
      "source": [
        ""
      ],
      "execution_count": null,
      "outputs": []
    }
  ]
}